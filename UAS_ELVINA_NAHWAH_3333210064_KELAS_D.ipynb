{
  "cells": [
    {
      "cell_type": "markdown",
      "metadata": {
        "id": "ceTGfrcAoIyG"
      },
      "source": [
        "**Time Series**\n",
        "\n",
        "A time-series is a series of data points indexed in time order and it is used to predict the future based on the previous observed values. Time series are very frequently plotted via line charts. Time series are used in statistics , weather forecasting, stock price prediction, pattern recognititon, earthquake prediction, e.t.c.\n",
        "\n",
        "Time series analysis comprises methods for analysing time series data in order to extract meaningful statistics and other characteristics of the data.\n",
        "\n",
        "Time series forecasting is the use of a model to predict future values based on previously observed values."
      ]
    },
    {
      "cell_type": "markdown",
      "source": [
        "*Time series* biasa digunakan untuk memprediksi masa depan berdasarkan nilai - nilai sudah diamati sebelumnya contoh halnya digunakan dalam statistik, ramalan cuaca, prediksi harga saham, dan pengenalan pola, prediksi gempa bumi, dll. Jadi, *time series* itu sering banget diplot dengan grafik garis.\n",
        "\n",
        "*Time series* disini tuh dibagi menjadi analisis *time series* dan peramalan time series. Analisis *time series* sering kali melibatkan metode - metode untuk menganalisis data *time series* guna menghasilkan statistika yang bermakna dan karakteristik lain data tersebut. Sedangkan peramalan *time series* adalah penggunaan model untuk memprediksi nilai - nilai masa depan berdasarkan nilai - nilai yang diamati sebelumnya."
      ],
      "metadata": {
        "id": "f7tepBWUqun-"
      }
    },
    {
      "cell_type": "markdown",
      "source": [
        "## Time Series"
      ],
      "metadata": {
        "id": "v6teBek2dS_L"
      }
    },
    {
      "cell_type": "markdown",
      "metadata": {
        "id": "KTuS__yhzwG4"
      },
      "source": [
        "**Import Library**"
      ]
    },
    {
      "cell_type": "markdown",
      "source": [
        "Dalam time series kita menggunakan beberapa library seperti halnya pandas, numpy, pyplot dalam matplotlib, seaborn, math, datetime, dan inline didalam matplotlib.\n",
        "1. pandas : Library yang berguna untuk menganalisis data dan memanipulasi dataset.\n",
        "2. numpy : Library yang biasanya digunakan para data scientist dalam menangani permasalahan angka - angka.\n",
        "3. matplotlib : Library yang digunakan untuk memvisualisasikan data. Pada matplotlib digunakan submodul pyplot untuk membuat berbagai jenis plot, seperti plot garis, scatter plot, bar plot, histogram, dan masih banyak lainnya.\n",
        "4. seaborn : Library yang kegunaannya sama seperti matplotlib untuk membuat visualisasi data yang menarik dan informatif, namun lebih tingkatnya lebih tinggi daripada matplotlib dan mempermudah pembuatan plot yang estetis dengan sedikit usaha.\n",
        "5. math : Library yang dapat digunakan untuk berbagai keperluan perhitungan matematika didalam python.\n",
        "6. datetime : Library yang digunakan untuk memanipulasi dan operasi terkait tanggal dan waktu, yaitu dengan melalukan tugas yang melibatkan perhitungan dan pemformatan tanggalan serta waktu.\n",
        "7. %matplotlib inline itu untuk mengaktifkan tampilan grafik langsung didalam notebook dan hanya berlaku pada jupyter notebook saja.\n"
      ],
      "metadata": {
        "id": "lI_T9t4nsrys"
      }
    },
    {
      "cell_type": "code",
      "execution_count": 1,
      "metadata": {
        "id": "uCngqnD4qrmY"
      },
      "outputs": [],
      "source": [
        "import pandas as pd\n",
        "import numpy as np\n",
        "import matplotlib.pyplot as plt\n",
        "import seaborn as sns\n",
        "import math\n",
        "import datetime\n",
        "%matplotlib inline"
      ]
    },
    {
      "cell_type": "markdown",
      "metadata": {
        "id": "8hRjDuoyzlpH"
      },
      "source": [
        "**Import Dataset**"
      ]
    },
    {
      "cell_type": "markdown",
      "metadata": {
        "id": "IzZdTvtYzpUg"
      },
      "source": [
        "Dataset source : https://www.kaggle.com/datasets/harshsingh2209/nvidia-stock-pricing-20172022\n",
        "\n",
        "Dataset yang digunakan adalah data historis selama 5 tahun yaitu mulai dari 2017 - 2022 mengenai saham perusahan Nvidia. Nvidia sendiri merupakan perusahaan yang bergerak dalam bidang teknologi yang menyediakan solusi grafik, komputasi, jaringan di Amerika Serikat, Taiwan, China, dan Internasional lainnya. Pada data tersebut disajikan data mengenai harga harian dan perubahan dalam sehari. Harga tertinggi dan terendah untuk setiap harinya dapat membantu mengindentifikasi pola pada tingkat yang sangkat kecil. Volume perhari juga dicatat di data ini."
      ]
    },
    {
      "cell_type": "markdown",
      "source": [
        "Import data yang sudah didownload pada kaggle dan kemudian di upload pada gdrive."
      ],
      "metadata": {
        "id": "mqPCbTmelHbv"
      }
    },
    {
      "cell_type": "code",
      "execution_count": 2,
      "metadata": {
        "colab": {
          "base_uri": "https://localhost:8080/"
        },
        "id": "sKdunXrwzd2e",
        "outputId": "357d547a-ed2b-4c76-d92d-2154c4a335da"
      },
      "outputs": [
        {
          "output_type": "stream",
          "name": "stdout",
          "text": [
            "Downloading...\n",
            "From: https://drive.google.com/uc?id=1o_eVvJ_kAeKZFC32qHoUoARTd7l_OCXq\n",
            "To: /content/NVDA.csv\n",
            "\r  0% 0.00/90.7k [00:00<?, ?B/s]\r100% 90.7k/90.7k [00:00<00:00, 71.9MB/s]\n"
          ]
        }
      ],
      "source": [
        "#https://drive.google.com/file/d/1uK_sNxuRBJp_0n4VO5H1fiB6i8n1TeM9/view?usp=drive_link\n",
        "\n",
        "!gdown 1o_eVvJ_kAeKZFC32qHoUoARTd7l_OCXq"
      ]
    },
    {
      "cell_type": "markdown",
      "source": [
        "Pertama kita gunakan pandas untuk membaca file dataset yaitu dengan format .CSV, lalu menggunakan perintah `dataset.head()` untuk menampilkan lima baris teratas dari dataset tersebut."
      ],
      "metadata": {
        "id": "KH6bZc5umUug"
      }
    },
    {
      "cell_type": "code",
      "execution_count": 3,
      "metadata": {
        "colab": {
          "base_uri": "https://localhost:8080/",
          "height": 206
        },
        "id": "z4ytHhkuz0hQ",
        "outputId": "754a9dbb-3d08-4e4d-f2c6-f17effd37ade"
      },
      "outputs": [
        {
          "output_type": "execute_result",
          "data": {
            "text/plain": [
              "         Date       Open       High        Low      Close  Adj Close  \\\n",
              "0  2017-06-12  36.470001  37.924999  35.527500  37.492500  37.076328   \n",
              "1  2017-06-13  38.599998  38.692501  36.412498  37.849998  37.429855   \n",
              "2  2017-06-14  37.880001  38.514999  37.125000  37.930000  37.508972   \n",
              "3  2017-06-15  36.740002  38.400002  36.625000  38.092499  37.669662   \n",
              "4  2017-06-16  38.189999  38.674999  37.560001  37.904999  37.484249   \n",
              "\n",
              "      Volume  \n",
              "0  169753200  \n",
              "1  167250400  \n",
              "2  118464000  \n",
              "3   96382400  \n",
              "4   92496000  "
            ],
            "text/html": [
              "\n",
              "  <div id=\"df-a704ede5-5bbc-4b40-b84c-82ac740ec529\">\n",
              "    <div class=\"colab-df-container\">\n",
              "      <div>\n",
              "<style scoped>\n",
              "    .dataframe tbody tr th:only-of-type {\n",
              "        vertical-align: middle;\n",
              "    }\n",
              "\n",
              "    .dataframe tbody tr th {\n",
              "        vertical-align: top;\n",
              "    }\n",
              "\n",
              "    .dataframe thead th {\n",
              "        text-align: right;\n",
              "    }\n",
              "</style>\n",
              "<table border=\"1\" class=\"dataframe\">\n",
              "  <thead>\n",
              "    <tr style=\"text-align: right;\">\n",
              "      <th></th>\n",
              "      <th>Date</th>\n",
              "      <th>Open</th>\n",
              "      <th>High</th>\n",
              "      <th>Low</th>\n",
              "      <th>Close</th>\n",
              "      <th>Adj Close</th>\n",
              "      <th>Volume</th>\n",
              "    </tr>\n",
              "  </thead>\n",
              "  <tbody>\n",
              "    <tr>\n",
              "      <th>0</th>\n",
              "      <td>2017-06-12</td>\n",
              "      <td>36.470001</td>\n",
              "      <td>37.924999</td>\n",
              "      <td>35.527500</td>\n",
              "      <td>37.492500</td>\n",
              "      <td>37.076328</td>\n",
              "      <td>169753200</td>\n",
              "    </tr>\n",
              "    <tr>\n",
              "      <th>1</th>\n",
              "      <td>2017-06-13</td>\n",
              "      <td>38.599998</td>\n",
              "      <td>38.692501</td>\n",
              "      <td>36.412498</td>\n",
              "      <td>37.849998</td>\n",
              "      <td>37.429855</td>\n",
              "      <td>167250400</td>\n",
              "    </tr>\n",
              "    <tr>\n",
              "      <th>2</th>\n",
              "      <td>2017-06-14</td>\n",
              "      <td>37.880001</td>\n",
              "      <td>38.514999</td>\n",
              "      <td>37.125000</td>\n",
              "      <td>37.930000</td>\n",
              "      <td>37.508972</td>\n",
              "      <td>118464000</td>\n",
              "    </tr>\n",
              "    <tr>\n",
              "      <th>3</th>\n",
              "      <td>2017-06-15</td>\n",
              "      <td>36.740002</td>\n",
              "      <td>38.400002</td>\n",
              "      <td>36.625000</td>\n",
              "      <td>38.092499</td>\n",
              "      <td>37.669662</td>\n",
              "      <td>96382400</td>\n",
              "    </tr>\n",
              "    <tr>\n",
              "      <th>4</th>\n",
              "      <td>2017-06-16</td>\n",
              "      <td>38.189999</td>\n",
              "      <td>38.674999</td>\n",
              "      <td>37.560001</td>\n",
              "      <td>37.904999</td>\n",
              "      <td>37.484249</td>\n",
              "      <td>92496000</td>\n",
              "    </tr>\n",
              "  </tbody>\n",
              "</table>\n",
              "</div>\n",
              "      <button class=\"colab-df-convert\" onclick=\"convertToInteractive('df-a704ede5-5bbc-4b40-b84c-82ac740ec529')\"\n",
              "              title=\"Convert this dataframe to an interactive table.\"\n",
              "              style=\"display:none;\">\n",
              "        \n",
              "  <svg xmlns=\"http://www.w3.org/2000/svg\" height=\"24px\"viewBox=\"0 0 24 24\"\n",
              "       width=\"24px\">\n",
              "    <path d=\"M0 0h24v24H0V0z\" fill=\"none\"/>\n",
              "    <path d=\"M18.56 5.44l.94 2.06.94-2.06 2.06-.94-2.06-.94-.94-2.06-.94 2.06-2.06.94zm-11 1L8.5 8.5l.94-2.06 2.06-.94-2.06-.94L8.5 2.5l-.94 2.06-2.06.94zm10 10l.94 2.06.94-2.06 2.06-.94-2.06-.94-.94-2.06-.94 2.06-2.06.94z\"/><path d=\"M17.41 7.96l-1.37-1.37c-.4-.4-.92-.59-1.43-.59-.52 0-1.04.2-1.43.59L10.3 9.45l-7.72 7.72c-.78.78-.78 2.05 0 2.83L4 21.41c.39.39.9.59 1.41.59.51 0 1.02-.2 1.41-.59l7.78-7.78 2.81-2.81c.8-.78.8-2.07 0-2.86zM5.41 20L4 18.59l7.72-7.72 1.47 1.35L5.41 20z\"/>\n",
              "  </svg>\n",
              "      </button>\n",
              "      \n",
              "  <style>\n",
              "    .colab-df-container {\n",
              "      display:flex;\n",
              "      flex-wrap:wrap;\n",
              "      gap: 12px;\n",
              "    }\n",
              "\n",
              "    .colab-df-convert {\n",
              "      background-color: #E8F0FE;\n",
              "      border: none;\n",
              "      border-radius: 50%;\n",
              "      cursor: pointer;\n",
              "      display: none;\n",
              "      fill: #1967D2;\n",
              "      height: 32px;\n",
              "      padding: 0 0 0 0;\n",
              "      width: 32px;\n",
              "    }\n",
              "\n",
              "    .colab-df-convert:hover {\n",
              "      background-color: #E2EBFA;\n",
              "      box-shadow: 0px 1px 2px rgba(60, 64, 67, 0.3), 0px 1px 3px 1px rgba(60, 64, 67, 0.15);\n",
              "      fill: #174EA6;\n",
              "    }\n",
              "\n",
              "    [theme=dark] .colab-df-convert {\n",
              "      background-color: #3B4455;\n",
              "      fill: #D2E3FC;\n",
              "    }\n",
              "\n",
              "    [theme=dark] .colab-df-convert:hover {\n",
              "      background-color: #434B5C;\n",
              "      box-shadow: 0px 1px 3px 1px rgba(0, 0, 0, 0.15);\n",
              "      filter: drop-shadow(0px 1px 2px rgba(0, 0, 0, 0.3));\n",
              "      fill: #FFFFFF;\n",
              "    }\n",
              "  </style>\n",
              "\n",
              "      <script>\n",
              "        const buttonEl =\n",
              "          document.querySelector('#df-a704ede5-5bbc-4b40-b84c-82ac740ec529 button.colab-df-convert');\n",
              "        buttonEl.style.display =\n",
              "          google.colab.kernel.accessAllowed ? 'block' : 'none';\n",
              "\n",
              "        async function convertToInteractive(key) {\n",
              "          const element = document.querySelector('#df-a704ede5-5bbc-4b40-b84c-82ac740ec529');\n",
              "          const dataTable =\n",
              "            await google.colab.kernel.invokeFunction('convertToInteractive',\n",
              "                                                     [key], {});\n",
              "          if (!dataTable) return;\n",
              "\n",
              "          const docLinkHtml = 'Like what you see? Visit the ' +\n",
              "            '<a target=\"_blank\" href=https://colab.research.google.com/notebooks/data_table.ipynb>data table notebook</a>'\n",
              "            + ' to learn more about interactive tables.';\n",
              "          element.innerHTML = '';\n",
              "          dataTable['output_type'] = 'display_data';\n",
              "          await google.colab.output.renderOutput(dataTable, element);\n",
              "          const docLink = document.createElement('div');\n",
              "          docLink.innerHTML = docLinkHtml;\n",
              "          element.appendChild(docLink);\n",
              "        }\n",
              "      </script>\n",
              "    </div>\n",
              "  </div>\n",
              "  "
            ]
          },
          "metadata": {},
          "execution_count": 3
        }
      ],
      "source": [
        "dataset = pd.read_csv('NVDA.csv')\n",
        "dataset.head()"
      ]
    },
    {
      "cell_type": "markdown",
      "source": [
        "Pada data tersebut dapat dilihat tanggal saham tersebut dijual, harga pembukaan saham, harga tertinggi saham, harga terendah saham, harga akhir saham, harga saham saat market tutup serta total saham yang terjual dalam 1 hari."
      ],
      "metadata": {
        "id": "4bJ8PwqKwRzN"
      }
    },
    {
      "cell_type": "markdown",
      "source": [
        "Setelah itu, untuk mengetahui informasi mengenai dataset yang kita pilih gunakan `dataset.info`.\n"
      ],
      "metadata": {
        "id": "TfwFnfJ1nMbn"
      }
    },
    {
      "cell_type": "code",
      "execution_count": 4,
      "metadata": {
        "colab": {
          "base_uri": "https://localhost:8080/"
        },
        "id": "xvG658HJ0CJk",
        "outputId": "e16a1d0c-cfcb-45b0-f9ec-2d827eba4f41"
      },
      "outputs": [
        {
          "output_type": "stream",
          "name": "stdout",
          "text": [
            "<class 'pandas.core.frame.DataFrame'>\n",
            "RangeIndex: 1260 entries, 0 to 1259\n",
            "Data columns (total 7 columns):\n",
            " #   Column     Non-Null Count  Dtype  \n",
            "---  ------     --------------  -----  \n",
            " 0   Date       1260 non-null   object \n",
            " 1   Open       1260 non-null   float64\n",
            " 2   High       1260 non-null   float64\n",
            " 3   Low        1260 non-null   float64\n",
            " 4   Close      1260 non-null   float64\n",
            " 5   Adj Close  1260 non-null   float64\n",
            " 6   Volume     1260 non-null   int64  \n",
            "dtypes: float64(5), int64(1), object(1)\n",
            "memory usage: 69.0+ KB\n"
          ]
        }
      ],
      "source": [
        "dataset.info()"
      ]
    },
    {
      "cell_type": "markdown",
      "source": [
        "Pada dataset yang saya miliki terdapat 7 coloum, 1260 baris, baris pada data tersebut sama serta types datanya adalah float64, int64, dan object.\n"
      ],
      "metadata": {
        "id": "j9DU7smHxBdM"
      }
    },
    {
      "cell_type": "markdown",
      "source": [
        "Kemudian kita cek apakah terdapat *missing value* dengan menggunakan `dataset.isnull().sum()`"
      ],
      "metadata": {
        "id": "KPyvLrt9x-sl"
      }
    },
    {
      "cell_type": "code",
      "source": [
        "dataset.isnull().sum()"
      ],
      "metadata": {
        "colab": {
          "base_uri": "https://localhost:8080/"
        },
        "id": "PVGFL3qnxtSR",
        "outputId": "ba084a5c-ed76-48bc-8ebb-b9c463de08c8"
      },
      "execution_count": 5,
      "outputs": [
        {
          "output_type": "execute_result",
          "data": {
            "text/plain": [
              "Date         0\n",
              "Open         0\n",
              "High         0\n",
              "Low          0\n",
              "Close        0\n",
              "Adj Close    0\n",
              "Volume       0\n",
              "dtype: int64"
            ]
          },
          "metadata": {},
          "execution_count": 5
        }
      ]
    },
    {
      "cell_type": "markdown",
      "source": [
        "Pada dataset tersebut tidak ada *missing value*, sehingga kita bisa melanjutkannya."
      ],
      "metadata": {
        "id": "FRemJDuTyECJ"
      }
    },
    {
      "cell_type": "markdown",
      "metadata": {
        "id": "Jmz1TgoV0IFn"
      },
      "source": [
        "Kemudian membuat ringkasan statisitk deskriptif mengenai dataset tersebut dengan `dataset.describe`. nah describe ini berguna untuk melihat gambaran umum mengenai datasetnya seperti informasi tentang persebaran data, mendeketeksi potensi outlier atau anomali dalam dataset yang telah dipelajari pada pertemuan pertama dan kedua.\n"
      ]
    },
    {
      "cell_type": "code",
      "execution_count": 6,
      "metadata": {
        "colab": {
          "base_uri": "https://localhost:8080/",
          "height": 300
        },
        "id": "uOvHbZV90Fee",
        "outputId": "816f6759-abc5-47c0-d13b-b81643da6b4c"
      },
      "outputs": [
        {
          "output_type": "execute_result",
          "data": {
            "text/plain": [
              "              Open         High          Low        Close    Adj Close  \\\n",
              "count  1260.000000  1260.000000  1260.000000  1260.000000  1260.000000   \n",
              "mean    104.245667   106.161260   102.120244   104.188327   103.927899   \n",
              "std      74.594439    76.233616    72.639107    74.435649    74.528081   \n",
              "min      31.622499    32.494999    31.115000    31.770000    31.554657   \n",
              "25%      47.730000    48.263749    46.923750    47.699374    47.265405   \n",
              "50%      63.825001    65.187500    62.774999    63.987499    63.539827   \n",
              "75%     140.021874   142.399372   137.488751   139.945625   139.818382   \n",
              "max     335.170013   346.470001   320.359985   333.760010   333.591766   \n",
              "\n",
              "             Volume  \n",
              "count  1.260000e+03  \n",
              "mean   4.920926e+07  \n",
              "std    2.500132e+07  \n",
              "min    9.788400e+06  \n",
              "25%    3.182070e+07  \n",
              "50%    4.384260e+07  \n",
              "75%    6.085220e+07  \n",
              "max    2.511528e+08  "
            ],
            "text/html": [
              "\n",
              "  <div id=\"df-4891ae18-da13-4787-8029-d87ca9b29d6d\">\n",
              "    <div class=\"colab-df-container\">\n",
              "      <div>\n",
              "<style scoped>\n",
              "    .dataframe tbody tr th:only-of-type {\n",
              "        vertical-align: middle;\n",
              "    }\n",
              "\n",
              "    .dataframe tbody tr th {\n",
              "        vertical-align: top;\n",
              "    }\n",
              "\n",
              "    .dataframe thead th {\n",
              "        text-align: right;\n",
              "    }\n",
              "</style>\n",
              "<table border=\"1\" class=\"dataframe\">\n",
              "  <thead>\n",
              "    <tr style=\"text-align: right;\">\n",
              "      <th></th>\n",
              "      <th>Open</th>\n",
              "      <th>High</th>\n",
              "      <th>Low</th>\n",
              "      <th>Close</th>\n",
              "      <th>Adj Close</th>\n",
              "      <th>Volume</th>\n",
              "    </tr>\n",
              "  </thead>\n",
              "  <tbody>\n",
              "    <tr>\n",
              "      <th>count</th>\n",
              "      <td>1260.000000</td>\n",
              "      <td>1260.000000</td>\n",
              "      <td>1260.000000</td>\n",
              "      <td>1260.000000</td>\n",
              "      <td>1260.000000</td>\n",
              "      <td>1.260000e+03</td>\n",
              "    </tr>\n",
              "    <tr>\n",
              "      <th>mean</th>\n",
              "      <td>104.245667</td>\n",
              "      <td>106.161260</td>\n",
              "      <td>102.120244</td>\n",
              "      <td>104.188327</td>\n",
              "      <td>103.927899</td>\n",
              "      <td>4.920926e+07</td>\n",
              "    </tr>\n",
              "    <tr>\n",
              "      <th>std</th>\n",
              "      <td>74.594439</td>\n",
              "      <td>76.233616</td>\n",
              "      <td>72.639107</td>\n",
              "      <td>74.435649</td>\n",
              "      <td>74.528081</td>\n",
              "      <td>2.500132e+07</td>\n",
              "    </tr>\n",
              "    <tr>\n",
              "      <th>min</th>\n",
              "      <td>31.622499</td>\n",
              "      <td>32.494999</td>\n",
              "      <td>31.115000</td>\n",
              "      <td>31.770000</td>\n",
              "      <td>31.554657</td>\n",
              "      <td>9.788400e+06</td>\n",
              "    </tr>\n",
              "    <tr>\n",
              "      <th>25%</th>\n",
              "      <td>47.730000</td>\n",
              "      <td>48.263749</td>\n",
              "      <td>46.923750</td>\n",
              "      <td>47.699374</td>\n",
              "      <td>47.265405</td>\n",
              "      <td>3.182070e+07</td>\n",
              "    </tr>\n",
              "    <tr>\n",
              "      <th>50%</th>\n",
              "      <td>63.825001</td>\n",
              "      <td>65.187500</td>\n",
              "      <td>62.774999</td>\n",
              "      <td>63.987499</td>\n",
              "      <td>63.539827</td>\n",
              "      <td>4.384260e+07</td>\n",
              "    </tr>\n",
              "    <tr>\n",
              "      <th>75%</th>\n",
              "      <td>140.021874</td>\n",
              "      <td>142.399372</td>\n",
              "      <td>137.488751</td>\n",
              "      <td>139.945625</td>\n",
              "      <td>139.818382</td>\n",
              "      <td>6.085220e+07</td>\n",
              "    </tr>\n",
              "    <tr>\n",
              "      <th>max</th>\n",
              "      <td>335.170013</td>\n",
              "      <td>346.470001</td>\n",
              "      <td>320.359985</td>\n",
              "      <td>333.760010</td>\n",
              "      <td>333.591766</td>\n",
              "      <td>2.511528e+08</td>\n",
              "    </tr>\n",
              "  </tbody>\n",
              "</table>\n",
              "</div>\n",
              "      <button class=\"colab-df-convert\" onclick=\"convertToInteractive('df-4891ae18-da13-4787-8029-d87ca9b29d6d')\"\n",
              "              title=\"Convert this dataframe to an interactive table.\"\n",
              "              style=\"display:none;\">\n",
              "        \n",
              "  <svg xmlns=\"http://www.w3.org/2000/svg\" height=\"24px\"viewBox=\"0 0 24 24\"\n",
              "       width=\"24px\">\n",
              "    <path d=\"M0 0h24v24H0V0z\" fill=\"none\"/>\n",
              "    <path d=\"M18.56 5.44l.94 2.06.94-2.06 2.06-.94-2.06-.94-.94-2.06-.94 2.06-2.06.94zm-11 1L8.5 8.5l.94-2.06 2.06-.94-2.06-.94L8.5 2.5l-.94 2.06-2.06.94zm10 10l.94 2.06.94-2.06 2.06-.94-2.06-.94-.94-2.06-.94 2.06-2.06.94z\"/><path d=\"M17.41 7.96l-1.37-1.37c-.4-.4-.92-.59-1.43-.59-.52 0-1.04.2-1.43.59L10.3 9.45l-7.72 7.72c-.78.78-.78 2.05 0 2.83L4 21.41c.39.39.9.59 1.41.59.51 0 1.02-.2 1.41-.59l7.78-7.78 2.81-2.81c.8-.78.8-2.07 0-2.86zM5.41 20L4 18.59l7.72-7.72 1.47 1.35L5.41 20z\"/>\n",
              "  </svg>\n",
              "      </button>\n",
              "      \n",
              "  <style>\n",
              "    .colab-df-container {\n",
              "      display:flex;\n",
              "      flex-wrap:wrap;\n",
              "      gap: 12px;\n",
              "    }\n",
              "\n",
              "    .colab-df-convert {\n",
              "      background-color: #E8F0FE;\n",
              "      border: none;\n",
              "      border-radius: 50%;\n",
              "      cursor: pointer;\n",
              "      display: none;\n",
              "      fill: #1967D2;\n",
              "      height: 32px;\n",
              "      padding: 0 0 0 0;\n",
              "      width: 32px;\n",
              "    }\n",
              "\n",
              "    .colab-df-convert:hover {\n",
              "      background-color: #E2EBFA;\n",
              "      box-shadow: 0px 1px 2px rgba(60, 64, 67, 0.3), 0px 1px 3px 1px rgba(60, 64, 67, 0.15);\n",
              "      fill: #174EA6;\n",
              "    }\n",
              "\n",
              "    [theme=dark] .colab-df-convert {\n",
              "      background-color: #3B4455;\n",
              "      fill: #D2E3FC;\n",
              "    }\n",
              "\n",
              "    [theme=dark] .colab-df-convert:hover {\n",
              "      background-color: #434B5C;\n",
              "      box-shadow: 0px 1px 3px 1px rgba(0, 0, 0, 0.15);\n",
              "      filter: drop-shadow(0px 1px 2px rgba(0, 0, 0, 0.3));\n",
              "      fill: #FFFFFF;\n",
              "    }\n",
              "  </style>\n",
              "\n",
              "      <script>\n",
              "        const buttonEl =\n",
              "          document.querySelector('#df-4891ae18-da13-4787-8029-d87ca9b29d6d button.colab-df-convert');\n",
              "        buttonEl.style.display =\n",
              "          google.colab.kernel.accessAllowed ? 'block' : 'none';\n",
              "\n",
              "        async function convertToInteractive(key) {\n",
              "          const element = document.querySelector('#df-4891ae18-da13-4787-8029-d87ca9b29d6d');\n",
              "          const dataTable =\n",
              "            await google.colab.kernel.invokeFunction('convertToInteractive',\n",
              "                                                     [key], {});\n",
              "          if (!dataTable) return;\n",
              "\n",
              "          const docLinkHtml = 'Like what you see? Visit the ' +\n",
              "            '<a target=\"_blank\" href=https://colab.research.google.com/notebooks/data_table.ipynb>data table notebook</a>'\n",
              "            + ' to learn more about interactive tables.';\n",
              "          element.innerHTML = '';\n",
              "          dataTable['output_type'] = 'display_data';\n",
              "          await google.colab.output.renderOutput(dataTable, element);\n",
              "          const docLink = document.createElement('div');\n",
              "          docLink.innerHTML = docLinkHtml;\n",
              "          element.appendChild(docLink);\n",
              "        }\n",
              "      </script>\n",
              "    </div>\n",
              "  </div>\n",
              "  "
            ]
          },
          "metadata": {},
          "execution_count": 6
        }
      ],
      "source": [
        "dataset.describe()"
      ]
    },
    {
      "cell_type": "markdown",
      "metadata": {
        "id": "ckKHDQv80S2S"
      },
      "source": [
        "Pada dataset tersebut didapatkan hasil statistiknya yaitu *count*,*mean*, std, *min*, kuartil bawah, *median*, kuartil atas, dan *max* pada setiap kolomnya"
      ]
    },
    {
      "cell_type": "markdown",
      "source": [
        "Langkah selanjutnya adalah menghandle *datetime* data untuk *time series*"
      ],
      "metadata": {
        "id": "96BAkl3n2qrI"
      }
    },
    {
      "cell_type": "code",
      "execution_count": 7,
      "metadata": {
        "colab": {
          "base_uri": "https://localhost:8080/",
          "height": 238
        },
        "id": "V7gBtJvZ0SUZ",
        "outputId": "d2494c66-a813-4375-a362-812975b510da"
      },
      "outputs": [
        {
          "output_type": "execute_result",
          "data": {
            "text/plain": [
              "                 Open       High        Low      Close  Adj Close     Volume\n",
              "Date                                                                        \n",
              "2017-06-12  36.470001  37.924999  35.527500  37.492500  37.076328  169753200\n",
              "2017-06-13  38.599998  38.692501  36.412498  37.849998  37.429855  167250400\n",
              "2017-06-14  37.880001  38.514999  37.125000  37.930000  37.508972  118464000\n",
              "2017-06-15  36.740002  38.400002  36.625000  38.092499  37.669662   96382400\n",
              "2017-06-16  38.189999  38.674999  37.560001  37.904999  37.484249   92496000"
            ],
            "text/html": [
              "\n",
              "  <div id=\"df-f20d3076-0a18-474f-b858-237e58e7488b\">\n",
              "    <div class=\"colab-df-container\">\n",
              "      <div>\n",
              "<style scoped>\n",
              "    .dataframe tbody tr th:only-of-type {\n",
              "        vertical-align: middle;\n",
              "    }\n",
              "\n",
              "    .dataframe tbody tr th {\n",
              "        vertical-align: top;\n",
              "    }\n",
              "\n",
              "    .dataframe thead th {\n",
              "        text-align: right;\n",
              "    }\n",
              "</style>\n",
              "<table border=\"1\" class=\"dataframe\">\n",
              "  <thead>\n",
              "    <tr style=\"text-align: right;\">\n",
              "      <th></th>\n",
              "      <th>Open</th>\n",
              "      <th>High</th>\n",
              "      <th>Low</th>\n",
              "      <th>Close</th>\n",
              "      <th>Adj Close</th>\n",
              "      <th>Volume</th>\n",
              "    </tr>\n",
              "    <tr>\n",
              "      <th>Date</th>\n",
              "      <th></th>\n",
              "      <th></th>\n",
              "      <th></th>\n",
              "      <th></th>\n",
              "      <th></th>\n",
              "      <th></th>\n",
              "    </tr>\n",
              "  </thead>\n",
              "  <tbody>\n",
              "    <tr>\n",
              "      <th>2017-06-12</th>\n",
              "      <td>36.470001</td>\n",
              "      <td>37.924999</td>\n",
              "      <td>35.527500</td>\n",
              "      <td>37.492500</td>\n",
              "      <td>37.076328</td>\n",
              "      <td>169753200</td>\n",
              "    </tr>\n",
              "    <tr>\n",
              "      <th>2017-06-13</th>\n",
              "      <td>38.599998</td>\n",
              "      <td>38.692501</td>\n",
              "      <td>36.412498</td>\n",
              "      <td>37.849998</td>\n",
              "      <td>37.429855</td>\n",
              "      <td>167250400</td>\n",
              "    </tr>\n",
              "    <tr>\n",
              "      <th>2017-06-14</th>\n",
              "      <td>37.880001</td>\n",
              "      <td>38.514999</td>\n",
              "      <td>37.125000</td>\n",
              "      <td>37.930000</td>\n",
              "      <td>37.508972</td>\n",
              "      <td>118464000</td>\n",
              "    </tr>\n",
              "    <tr>\n",
              "      <th>2017-06-15</th>\n",
              "      <td>36.740002</td>\n",
              "      <td>38.400002</td>\n",
              "      <td>36.625000</td>\n",
              "      <td>38.092499</td>\n",
              "      <td>37.669662</td>\n",
              "      <td>96382400</td>\n",
              "    </tr>\n",
              "    <tr>\n",
              "      <th>2017-06-16</th>\n",
              "      <td>38.189999</td>\n",
              "      <td>38.674999</td>\n",
              "      <td>37.560001</td>\n",
              "      <td>37.904999</td>\n",
              "      <td>37.484249</td>\n",
              "      <td>92496000</td>\n",
              "    </tr>\n",
              "  </tbody>\n",
              "</table>\n",
              "</div>\n",
              "      <button class=\"colab-df-convert\" onclick=\"convertToInteractive('df-f20d3076-0a18-474f-b858-237e58e7488b')\"\n",
              "              title=\"Convert this dataframe to an interactive table.\"\n",
              "              style=\"display:none;\">\n",
              "        \n",
              "  <svg xmlns=\"http://www.w3.org/2000/svg\" height=\"24px\"viewBox=\"0 0 24 24\"\n",
              "       width=\"24px\">\n",
              "    <path d=\"M0 0h24v24H0V0z\" fill=\"none\"/>\n",
              "    <path d=\"M18.56 5.44l.94 2.06.94-2.06 2.06-.94-2.06-.94-.94-2.06-.94 2.06-2.06.94zm-11 1L8.5 8.5l.94-2.06 2.06-.94-2.06-.94L8.5 2.5l-.94 2.06-2.06.94zm10 10l.94 2.06.94-2.06 2.06-.94-2.06-.94-.94-2.06-.94 2.06-2.06.94z\"/><path d=\"M17.41 7.96l-1.37-1.37c-.4-.4-.92-.59-1.43-.59-.52 0-1.04.2-1.43.59L10.3 9.45l-7.72 7.72c-.78.78-.78 2.05 0 2.83L4 21.41c.39.39.9.59 1.41.59.51 0 1.02-.2 1.41-.59l7.78-7.78 2.81-2.81c.8-.78.8-2.07 0-2.86zM5.41 20L4 18.59l7.72-7.72 1.47 1.35L5.41 20z\"/>\n",
              "  </svg>\n",
              "      </button>\n",
              "      \n",
              "  <style>\n",
              "    .colab-df-container {\n",
              "      display:flex;\n",
              "      flex-wrap:wrap;\n",
              "      gap: 12px;\n",
              "    }\n",
              "\n",
              "    .colab-df-convert {\n",
              "      background-color: #E8F0FE;\n",
              "      border: none;\n",
              "      border-radius: 50%;\n",
              "      cursor: pointer;\n",
              "      display: none;\n",
              "      fill: #1967D2;\n",
              "      height: 32px;\n",
              "      padding: 0 0 0 0;\n",
              "      width: 32px;\n",
              "    }\n",
              "\n",
              "    .colab-df-convert:hover {\n",
              "      background-color: #E2EBFA;\n",
              "      box-shadow: 0px 1px 2px rgba(60, 64, 67, 0.3), 0px 1px 3px 1px rgba(60, 64, 67, 0.15);\n",
              "      fill: #174EA6;\n",
              "    }\n",
              "\n",
              "    [theme=dark] .colab-df-convert {\n",
              "      background-color: #3B4455;\n",
              "      fill: #D2E3FC;\n",
              "    }\n",
              "\n",
              "    [theme=dark] .colab-df-convert:hover {\n",
              "      background-color: #434B5C;\n",
              "      box-shadow: 0px 1px 3px 1px rgba(0, 0, 0, 0.15);\n",
              "      filter: drop-shadow(0px 1px 2px rgba(0, 0, 0, 0.3));\n",
              "      fill: #FFFFFF;\n",
              "    }\n",
              "  </style>\n",
              "\n",
              "      <script>\n",
              "        const buttonEl =\n",
              "          document.querySelector('#df-f20d3076-0a18-474f-b858-237e58e7488b button.colab-df-convert');\n",
              "        buttonEl.style.display =\n",
              "          google.colab.kernel.accessAllowed ? 'block' : 'none';\n",
              "\n",
              "        async function convertToInteractive(key) {\n",
              "          const element = document.querySelector('#df-f20d3076-0a18-474f-b858-237e58e7488b');\n",
              "          const dataTable =\n",
              "            await google.colab.kernel.invokeFunction('convertToInteractive',\n",
              "                                                     [key], {});\n",
              "          if (!dataTable) return;\n",
              "\n",
              "          const docLinkHtml = 'Like what you see? Visit the ' +\n",
              "            '<a target=\"_blank\" href=https://colab.research.google.com/notebooks/data_table.ipynb>data table notebook</a>'\n",
              "            + ' to learn more about interactive tables.';\n",
              "          element.innerHTML = '';\n",
              "          dataTable['output_type'] = 'display_data';\n",
              "          await google.colab.output.renderOutput(dataTable, element);\n",
              "          const docLink = document.createElement('div');\n",
              "          docLink.innerHTML = docLinkHtml;\n",
              "          element.appendChild(docLink);\n",
              "        }\n",
              "      </script>\n",
              "    </div>\n",
              "  </div>\n",
              "  "
            ]
          },
          "metadata": {},
          "execution_count": 7
        }
      ],
      "source": [
        "dataset['Date'] = pd.to_datetime(dataset['Date'])\n",
        "dataset.set_index('Date', inplace=True)\n",
        "dataset.head()"
      ]
    },
    {
      "cell_type": "markdown",
      "source": [
        "Dengan menggunakan `dataset['Date'] = pd.to_datetime(dataset['Date'])` dapat mengubah kolom 'date' menjadi tipe data 'datetime'\n",
        "\n",
        "Kemudian `dataset.set_index('Date', inplace=True)` digunakan untuk mengatur kolom 'Date' sebagai index DataFrame sehingga kita dapat dengan mudah melakukan operasi berdasarkan tanggal. Nah `inplace=True` biasanya digunakan untuk memodifikasi DataFrame asli tanpa membuat salinan baru.\n",
        "\n",
        "\n",
        "Setelah itu menampilkan kembali DataFrame awal dengan index yang telah diperbaru menggunakan `dataset.head`"
      ],
      "metadata": {
        "id": "vdlnLcM121gm"
      }
    },
    {
      "cell_type": "markdown",
      "metadata": {
        "id": "jws0KgX027j6"
      },
      "source": [
        "## Exploratory Data Analysis"
      ]
    },
    {
      "cell_type": "markdown",
      "metadata": {
        "id": "DU0XyTTV3Mpu"
      },
      "source": [
        "Sekarang kita mulai menvisualisasikan data yang pertama visualisasikan kolom 'Adjusted Close' atau harga saham saat market tutup.\n",
        "\n",
        "Pertama buat objek gambar baru dengan ukuran 11x8 inci dengan menggunakan `plt.figure(figsize=(11, 8))`.\n",
        "\n",
        "Setelah itu menggunakan `dataset['Adj Close'].plot()` yang akan membuat plot berbentuk garis pada bagian kolom 'Adj Close'.\n",
        "\n",
        "Berikan judul plot tersebut dengan cara `plt.title('Closing Price History')` dengan berjudul 'Closng Price History'. Buat juga label untuk x dan y nya dengan cara `plt.xlabel('Date')` dan `plt.ylabel('Closing Price')` dengan label x 'date' dan untuk y 'Closing Price'\n",
        "\n",
        "Kemudian tampilkan plot yang telah ditentukan dengan `plt.show`"
      ]
    },
    {
      "cell_type": "code",
      "execution_count": 8,
      "metadata": {
        "colab": {
          "base_uri": "https://localhost:8080/",
          "height": 662
        },
        "id": "OJ8xCxoDp5EG",
        "outputId": "835312a5-b673-43cf-8d9f-2abf8e419500"
      },
      "outputs": [
        {
          "output_type": "display_data",
          "data": {
            "text/plain": [
              "<Figure size 1100x800 with 1 Axes>"
            ],
            "image/png": "[encoded data removed]"
          },
          "metadata": {}
        }
      ],
      "source": [
        "plt.figure(figsize=(11, 8)) # resizing the plot\n",
        "dataset['Adj Close'].plot()\n",
        "plt.title('Closing Price History') # adding a title\n",
        "plt.xlabel('Date') # x label\n",
        "plt.ylabel('Closing Price') # y label\n",
        "plt.show()"
      ]
    },
    {
      "cell_type": "markdown",
      "source": [
        "Pada plot tersebut dijelaskan bahwa data dimulai pada pertengah tahun 2017 hingga pertengahan tahun 2022. Pada pertengahan 2017 hingga awal 2020 kenaikan dan penurunan saham tidak terlalu signifikat. Namun pada 2020 saham tersebut mulai kenaikan secara drastis hingga 2022, menurut sepengalaman saya pada masa itu memang sedang zamannya masa pandemi COVID - 19 banyak orang mencari hiburan didalam rumah akibat adanya pembatasan dan karatina yang menyebabkan peningkatan permintaan untuk perangkat keras gaming dan grafis komputer. Sehingga hal tersebut membuat harga saham NVIDIA naik. Namun, pada tahun 2022  terjadi penurunan saham NVIDIA dikarena adanya penurunan pada harga saham Crypto hal tersebut dikarenakan NVIDIA yang biasa digunakan untuk mining mengalami penurunan peminat dikarenakan turunnya harga saham crypto."
      ],
      "metadata": {
        "id": "Ts5cPSbs6f9e"
      }
    },
    {
      "cell_type": "markdown",
      "source": [
        "Kemudian, membuat subplot dari kolom kolom dataset tersebut. Dengan menggunakan ukuran 16x8 inci untuk objek gambarnya, selanjutnya membuat subplot tersebut secara terpisah dengan ukuran subplot setiap kolom berukuran 11x9 inci menggunakan `cols = ['Open', 'Close', 'Volume', 'High', 'Low']` dan\n",
        "`axes = dataset[cols].plot(figsize=(11, 9), subplots = True)` kemudian `subplots = True` akan memastikan bahwa setiap kolom akan ditampilkan dalam subplot yang terpisah. Kemudian tampilkan plot yang telah dibuat dengan `plt.show`"
      ],
      "metadata": {
        "id": "VGgGZxPBGL_1"
      }
    },
    {
      "cell_type": "code",
      "execution_count": 9,
      "metadata": {
        "colab": {
          "base_uri": "https://localhost:8080/",
          "height": 725
        },
        "id": "Dpu_Goeaqgb5",
        "outputId": "3f87191f-f357-40f1-9fa9-69ca4e9bb032"
      },
      "outputs": [
        {
          "output_type": "display_data",
          "data": {
            "text/plain": [
              "<Figure size 1600x800 with 0 Axes>"
            ]
          },
          "metadata": {}
        },
        {
          "output_type": "display_data",
          "data": {
            "text/plain": [
              "<Figure size 1100x900 with 5 Axes>"
            ],
            "image/png": "[encoded data removed]"
          },
          "metadata": {}
        }
      ],
      "source": [
        "plt.figure(figsize=(16, 8)) # resizing the plot\n",
        "cols = ['Open', 'Close', 'Volume', 'High', 'Low']\n",
        "axes = dataset[cols].plot(figsize=(11, 9), subplots = True)\n",
        "plt.show()"
      ]
    },
    {
      "cell_type": "markdown",
      "source": [
        "Pada plot tersebut selain volume pergerakan saham diatas cenderung naik turun, namun mengalami pergerakan naik pada awal 2020."
      ],
      "metadata": {
        "id": "2LAEITN0JqUT"
      }
    },
    {
      "cell_type": "markdown",
      "source": [
        "**Membuat Percentage**"
      ],
      "metadata": {
        "id": "paLNHMawKK10"
      }
    },
    {
      "cell_type": "markdown",
      "source": [
        "Kemudian membuat presetase **volatilitas harga harian** atau disebut dengan HL_PCT dengan melihat seberapa besar perbedaan antara kolom 'High' dan 'Low' dengan rumus `dataset['HL_PCT'] = (dataset['High'] - dataset['Low']) / dataset['Low'] * 100.0`. Selanjutnya menghitung presentase **perubahan harga penutupan harian** dengan atau disebut dengan PCT_Change yaitu memberikan informasi tentang perubahan harga relatif antara 'open' dan 'close' dengan rumus `dataset['PCT_change'] = (dataset['Close'] - dataset['Open']) / dataset['Open'] * 100.0`"
      ],
      "metadata": {
        "id": "UWVjbZtXMbJ-"
      }
    },
    {
      "cell_type": "code",
      "execution_count": 10,
      "metadata": {
        "id": "AfhNMGBi-qaC"
      },
      "outputs": [],
      "source": [
        "dataset['HL_PCT'] = (dataset['High'] - dataset['Low']) / dataset['Low'] * 100.0\n",
        "dataset['PCT_change'] = (dataset['Close'] - dataset['Open']) / dataset['Open'] * 100.0"
      ]
    },
    {
      "cell_type": "code",
      "execution_count": 11,
      "metadata": {
        "id": "Tpr_qGGBpW_O"
      },
      "outputs": [],
      "source": [
        "df = dataset[['HL_PCT', 'PCT_change', 'Adj Close','Volume']]"
      ]
    },
    {
      "cell_type": "markdown",
      "source": [
        "Setelah itu membuat DataFrame baru yang terdiri dari kolom 'HL_PCT', 'PCT_change', 'Adj Close','Volume' yang nantinya akan terfokus menganalisis pada kolom yang telah dipilih"
      ],
      "metadata": {
        "id": "3znHJtBWODiL"
      }
    },
    {
      "cell_type": "markdown",
      "source": [
        "**Membuat harga penutupan saham sebagai label**"
      ],
      "metadata": {
        "id": "s4KBD76nPX-b"
      }
    },
    {
      "cell_type": "code",
      "execution_count": 12,
      "metadata": {
        "colab": {
          "base_uri": "https://localhost:8080/"
        },
        "id": "byohkejgqUxI",
        "outputId": "2c1b6542-6160-4c45-a1dc-08bf78837928"
      },
      "outputs": [
        {
          "output_type": "stream",
          "name": "stdout",
          "text": [
            "63\n"
          ]
        },
        {
          "output_type": "stream",
          "name": "stderr",
          "text": [
            "<ipython-input-12-8a15e8de9d0b>:3: SettingWithCopyWarning: \n",
            "A value is trying to be set on a copy of a slice from a DataFrame.\n",
            "Try using .loc[row_indexer,col_indexer] = value instead\n",
            "\n",
            "See the caveats in the documentation: https://pandas.pydata.org/pandas-docs/stable/user_guide/indexing.html#returning-a-view-versus-a-copy\n",
            "  df['label'] = df['Adj Close'].shift(-forecast_out)\n"
          ]
        }
      ],
      "source": [
        "forecast_out = int(math.ceil(0.05 * len(df))) # forcasting out 5% of the entire dataset\n",
        "print(forecast_out)\n",
        "df['label'] = df['Adj Close'].shift(-forecast_out)"
      ]
    },
    {
      "cell_type": "markdown",
      "source": [
        "  Kemudian menghitung jumlah baris data yang akan diprediksi dimasa depan atau *forecasting*. Jumlah yang dihitung hanya 5% dari seluruh dataset"
      ],
      "metadata": {
        "id": "9CNl5A9ZOpks"
      }
    },
    {
      "cell_type": "code",
      "execution_count": 13,
      "metadata": {
        "id": "irMFwvfUQfkX"
      },
      "outputs": [],
      "source": [
        "from sklearn.preprocessing import StandardScaler\n",
        "from sklearn.linear_model import LinearRegression, Ridge\n",
        "from sklearn.ensemble import RandomForestRegressor\n",
        "from sklearn.svm import SVR\n",
        "from sklearn.model_selection import train_test_split\n",
        "from sklearn.metrics import mean_squared_log_error"
      ]
    },
    {
      "cell_type": "markdown",
      "source": [
        "Kemudian mengimpor modul dari library sklearn yang nantinya digunakan untuk memodelkan dan mengevaluasi regresi.\n",
        "\n",
        "`from sklearn.preprocessing import StandardScaler` : digunakan untuk scalling fitur dalam pemrosesan data sebelum membangun model.\n",
        "\n",
        "`from sklearn.linear_model import LinearRegression, Ridge` : digunakan untuk membangun model regresi linear.\n",
        "\n",
        "`from sklearn.ensemble import RandomForestRegressor` : membangun model regresi menggunakana meode *ensemble random forest*.\n",
        "\n",
        "`from sklearn.svm import SVR` : untuk memodelkan hubungan antara fitur - fitur input dan target.\n",
        "\n",
        "`from sklearn.model_selection import train_set_split` : membagi dataset menjadi subset training dan test untuk memvalidasi kinerja model dan menghindari overfitting.\n",
        "\n",
        "`from sklearn.metrics import mean_squared_log_error` : mengukur kesalahan logaritmik rata - rata kuadrat antara prediksi dan nilai target dalam regresi yang digunakan dalam evaluasi kinerja model regresi."
      ],
      "metadata": {
        "id": "CiFSf80jRwj2"
      }
    },
    {
      "cell_type": "markdown",
      "metadata": {
        "id": "CEWA8nGgDCfG"
      },
      "source": [
        "dari plot terlihat bahwa ada peningkatan saham secara keseluruhan."
      ]
    },
    {
      "cell_type": "markdown",
      "source": [
        "**Menggunakan *scaler* untuk menormalisasi data**"
      ],
      "metadata": {
        "id": "zxKuRGMUUT0D"
      }
    },
    {
      "cell_type": "code",
      "execution_count": 14,
      "metadata": {
        "colab": {
          "base_uri": "https://localhost:8080/"
        },
        "id": "mpgmCvavV8oD",
        "outputId": "5fce2b3c-986c-4982-e519-b46b1a5061b6"
      },
      "outputs": [
        {
          "output_type": "stream",
          "name": "stderr",
          "text": [
            "<ipython-input-14-b49179d05873>:2: FutureWarning: In a future version of pandas all arguments of DataFrame.drop except for the argument 'labels' will be keyword-only.\n",
            "  X = np.array(df.drop(['label'], 1))\n"
          ]
        }
      ],
      "source": [
        "scaler = StandardScaler()\n",
        "X = np.array(df.drop(['label'], 1))\n",
        "scaler.fit(X)\n",
        "X = scaler.transform(X)"
      ]
    },
    {
      "cell_type": "markdown",
      "source": [
        "Normalisasi data diperlukan agar range data yang berbeda - beda ukurannya tidak terlalu jauh, sehingga mempercepat training. Kemudian kita melakukan scalling data agar memiliki skala yang seragam, selanjutnya mengambil nilai - nilai fitur dari DataFrame dan menghitungnya. Setelah itu melakukan transformasi penskalaan pada data fitur dengan menggunakan parameter skala yang telah dihitung sebelumnya."
      ],
      "metadata": {
        "id": "wC1g2WPaUevi"
      }
    },
    {
      "cell_type": "markdown",
      "source": [
        "**Menentukan X**"
      ],
      "metadata": {
        "id": "1lF50TI4XSYW"
      }
    },
    {
      "cell_type": "code",
      "execution_count": 15,
      "metadata": {
        "id": "ClQ0ncGKDYqg"
      },
      "outputs": [],
      "source": [
        "X_Predictions = X[-forecast_out:] # data to be predicted\n",
        "X = X[:-forecast_out] # data to be trained"
      ]
    },
    {
      "cell_type": "markdown",
      "source": [
        "Data yang digunakan untuk prediksi di masa dengan adalah data fitur 'X' dan yang akan digunakan untuk training untuk membangun model yaitu data fitur 'X' yang sudah dihapus subset terakhirnya.\n",
        "\n",
        "Subset yang dihapus berukuran `forecast_out` dan tidak akan digunakan dalam prooses pelatihan."
      ],
      "metadata": {
        "id": "aglzEwtlWMkb"
      }
    },
    {
      "cell_type": "markdown",
      "source": [
        "**Menentukan Y**"
      ],
      "metadata": {
        "id": "B0FY1R6gXVHR"
      }
    },
    {
      "cell_type": "code",
      "execution_count": 16,
      "metadata": {
        "colab": {
          "base_uri": "https://localhost:8080/"
        },
        "id": "wG1mOmKuV_Te",
        "outputId": "c3a9891e-98ec-49bf-d2be-fa0208c9248b"
      },
      "outputs": [
        {
          "output_type": "stream",
          "name": "stderr",
          "text": [
            "<ipython-input-16-c3da9adb30d1>:1: SettingWithCopyWarning: \n",
            "A value is trying to be set on a copy of a slice from a DataFrame\n",
            "\n",
            "See the caveats in the documentation: https://pandas.pydata.org/pandas-docs/stable/user_guide/indexing.html#returning-a-view-versus-a-copy\n",
            "  df.dropna(inplace=True)\n"
          ]
        }
      ],
      "source": [
        "df.dropna(inplace=True)\n",
        "y = np.array(df['label'])"
      ]
    },
    {
      "cell_type": "markdown",
      "source": [
        "Digunakan untuk memastikan bahwa data yang digunakan untuk pelatihan dan prediksi tidak mengandung *missing value*. setelah kolom label tersebut nantinya akan berisi nilai target yang ingin diprediksi"
      ],
      "metadata": {
        "id": "Xnlym1NRXiXE"
      }
    },
    {
      "cell_type": "markdown",
      "source": [
        "## Splitting Dataset\n"
      ],
      "metadata": {
        "id": "9r-Sr1CpYKfh"
      }
    },
    {
      "cell_type": "code",
      "execution_count": 17,
      "metadata": {
        "id": "8D31iOX2EVAA"
      },
      "outputs": [],
      "source": [
        "X_train, X_test, y_train, y_test = train_test_split(X, y, test_size=0.2, random_state=42)"
      ]
    },
    {
      "cell_type": "markdown",
      "source": [
        "untuk testing set menggunakan 20% dari data keseluruhan. Kemudian nilai yang digunakan untuk mengontrol rrandomization yang digunakan dalam pemisaha data sebesar 42"
      ],
      "metadata": {
        "id": "WRJxeHQfY3DE"
      }
    },
    {
      "cell_type": "markdown",
      "source": [
        "**Linear Regression**"
      ],
      "metadata": {
        "id": "r86u1SgRaOja"
      }
    },
    {
      "cell_type": "code",
      "execution_count": 18,
      "metadata": {
        "id": "yQXA0ZBuFLKW"
      },
      "outputs": [],
      "source": [
        "lr = LinearRegression()\n",
        "lr.fit(X_train, y_train)\n",
        "lr_confidence = lr.score(X_test, y_test)"
      ]
    },
    {
      "cell_type": "markdown",
      "source": [
        "digunakan untuk memberikan informasi tentang seberapa baik model regresi linear tersebut cocok dengan testing set."
      ],
      "metadata": {
        "id": "szJVwIR0Zltt"
      }
    },
    {
      "cell_type": "code",
      "execution_count": 19,
      "metadata": {
        "colab": {
          "base_uri": "https://localhost:8080/"
        },
        "id": "pK5vOlZ-jVld",
        "outputId": "e57c2466-302b-4b66-b649-fc37c40715eb"
      },
      "outputs": [
        {
          "output_type": "execute_result",
          "data": {
            "text/plain": [
              "0.8459092302614128"
            ]
          },
          "metadata": {},
          "execution_count": 19
        }
      ],
      "source": [
        "lr_confidence"
      ]
    },
    {
      "cell_type": "markdown",
      "source": [
        "Hasilnya hampir mendekati 1 berarti cocok dengan data pengujian"
      ],
      "metadata": {
        "id": "c3CcnkWMZz8R"
      }
    },
    {
      "cell_type": "markdown",
      "source": [
        "**Random Forest Regressor**"
      ],
      "metadata": {
        "id": "W0U4I8i6aRNJ"
      }
    },
    {
      "cell_type": "code",
      "execution_count": 20,
      "metadata": {
        "id": "VLP373_GFaKk"
      },
      "outputs": [],
      "source": [
        "rf = RandomForestRegressor()\n",
        "rf.fit(X_train, y_train)\n",
        "rf_confidence = rf.score(X_test, y_test)"
      ]
    },
    {
      "cell_type": "markdown",
      "source": [
        "digunakan untuk memberikan informasi tentang seberapa baik model regresi random forest tersebut cocok dengan testing set."
      ],
      "metadata": {
        "id": "0Oakbnloaekv"
      }
    },
    {
      "cell_type": "code",
      "execution_count": 21,
      "metadata": {
        "colab": {
          "base_uri": "https://localhost:8080/"
        },
        "id": "tjxiX_mrjXZi",
        "outputId": "e01890f1-113b-432d-f210-525aefb73bf4"
      },
      "outputs": [
        {
          "output_type": "execute_result",
          "data": {
            "text/plain": [
              "0.9409580416594409"
            ]
          },
          "metadata": {},
          "execution_count": 21
        }
      ],
      "source": [
        "rf_confidence"
      ]
    },
    {
      "cell_type": "markdown",
      "source": [
        "Hasilnya hampir mendekati 1 berarti cocok dengan data pengujian"
      ],
      "metadata": {
        "id": "06WUd72VarYz"
      }
    },
    {
      "cell_type": "markdown",
      "source": [
        "Tingkat kepercayaan 'Random Forest' lebih besar dibandingkan 'Linear Regression', sehinga model random forest akan digunakan nantinya."
      ],
      "metadata": {
        "id": "wlzgdxbwa-RD"
      }
    },
    {
      "cell_type": "markdown",
      "source": [
        "Kemudian menghasilkan prediksi data forecasting untuk hari berikutnya berdasarkan model regresi random forest yang telah di training."
      ],
      "metadata": {
        "id": "6bC87NHabnC6"
      }
    },
    {
      "cell_type": "code",
      "execution_count": 22,
      "metadata": {
        "colab": {
          "base_uri": "https://localhost:8080/"
        },
        "id": "3B4Ln3KaWKYP",
        "outputId": "016b1df8-2160-42bc-c6d2-8d71f7d479a1"
      },
      "outputs": [
        {
          "output_type": "stream",
          "name": "stderr",
          "text": [
            "<ipython-input-22-3eb2aa88d409>:6: SettingWithCopyWarning: \n",
            "A value is trying to be set on a copy of a slice from a DataFrame.\n",
            "Try using .loc[row_indexer,col_indexer] = value instead\n",
            "\n",
            "See the caveats in the documentation: https://pandas.pydata.org/pandas-docs/stable/user_guide/indexing.html#returning-a-view-versus-a-copy\n",
            "  df['Forecast'] = np.nan\n",
            "<ipython-input-22-3eb2aa88d409>:10: SettingWithCopyWarning: \n",
            "A value is trying to be set on a copy of a slice from a DataFrame\n",
            "\n",
            "See the caveats in the documentation: https://pandas.pydata.org/pandas-docs/stable/user_guide/indexing.html#returning-a-view-versus-a-copy\n",
            "  df.loc[next_date] = [np.nan for _ in range(len(df.columns)-1)]+[i]\n",
            "<ipython-input-22-3eb2aa88d409>:10: SettingWithCopyWarning: \n",
            "A value is trying to be set on a copy of a slice from a DataFrame\n",
            "\n",
            "See the caveats in the documentation: https://pandas.pydata.org/pandas-docs/stable/user_guide/indexing.html#returning-a-view-versus-a-copy\n",
            "  df.loc[next_date] = [np.nan for _ in range(len(df.columns)-1)]+[i]\n",
            "<ipython-input-22-3eb2aa88d409>:10: SettingWithCopyWarning: \n",
            "A value is trying to be set on a copy of a slice from a DataFrame\n",
            "\n",
            "See the caveats in the documentation: https://pandas.pydata.org/pandas-docs/stable/user_guide/indexing.html#returning-a-view-versus-a-copy\n",
            "  df.loc[next_date] = [np.nan for _ in range(len(df.columns)-1)]+[i]\n",
            "<ipython-input-22-3eb2aa88d409>:10: SettingWithCopyWarning: \n",
            "A value is trying to be set on a copy of a slice from a DataFrame\n",
            "\n",
            "See the caveats in the documentation: https://pandas.pydata.org/pandas-docs/stable/user_guide/indexing.html#returning-a-view-versus-a-copy\n",
            "  df.loc[next_date] = [np.nan for _ in range(len(df.columns)-1)]+[i]\n",
            "<ipython-input-22-3eb2aa88d409>:10: SettingWithCopyWarning: \n",
            "A value is trying to be set on a copy of a slice from a DataFrame\n",
            "\n",
            "See the caveats in the documentation: https://pandas.pydata.org/pandas-docs/stable/user_guide/indexing.html#returning-a-view-versus-a-copy\n",
            "  df.loc[next_date] = [np.nan for _ in range(len(df.columns)-1)]+[i]\n",
            "<ipython-input-22-3eb2aa88d409>:10: SettingWithCopyWarning: \n",
            "A value is trying to be set on a copy of a slice from a DataFrame\n",
            "\n",
            "See the caveats in the documentation: https://pandas.pydata.org/pandas-docs/stable/user_guide/indexing.html#returning-a-view-versus-a-copy\n",
            "  df.loc[next_date] = [np.nan for _ in range(len(df.columns)-1)]+[i]\n",
            "<ipython-input-22-3eb2aa88d409>:10: SettingWithCopyWarning: \n",
            "A value is trying to be set on a copy of a slice from a DataFrame\n",
            "\n",
            "See the caveats in the documentation: https://pandas.pydata.org/pandas-docs/stable/user_guide/indexing.html#returning-a-view-versus-a-copy\n",
            "  df.loc[next_date] = [np.nan for _ in range(len(df.columns)-1)]+[i]\n",
            "<ipython-input-22-3eb2aa88d409>:10: SettingWithCopyWarning: \n",
            "A value is trying to be set on a copy of a slice from a DataFrame\n",
            "\n",
            "See the caveats in the documentation: https://pandas.pydata.org/pandas-docs/stable/user_guide/indexing.html#returning-a-view-versus-a-copy\n",
            "  df.loc[next_date] = [np.nan for _ in range(len(df.columns)-1)]+[i]\n",
            "<ipython-input-22-3eb2aa88d409>:10: SettingWithCopyWarning: \n",
            "A value is trying to be set on a copy of a slice from a DataFrame\n",
            "\n",
            "See the caveats in the documentation: https://pandas.pydata.org/pandas-docs/stable/user_guide/indexing.html#returning-a-view-versus-a-copy\n",
            "  df.loc[next_date] = [np.nan for _ in range(len(df.columns)-1)]+[i]\n",
            "<ipython-input-22-3eb2aa88d409>:10: SettingWithCopyWarning: \n",
            "A value is trying to be set on a copy of a slice from a DataFrame\n",
            "\n",
            "See the caveats in the documentation: https://pandas.pydata.org/pandas-docs/stable/user_guide/indexing.html#returning-a-view-versus-a-copy\n",
            "  df.loc[next_date] = [np.nan for _ in range(len(df.columns)-1)]+[i]\n",
            "<ipython-input-22-3eb2aa88d409>:10: SettingWithCopyWarning: \n",
            "A value is trying to be set on a copy of a slice from a DataFrame\n",
            "\n",
            "See the caveats in the documentation: https://pandas.pydata.org/pandas-docs/stable/user_guide/indexing.html#returning-a-view-versus-a-copy\n",
            "  df.loc[next_date] = [np.nan for _ in range(len(df.columns)-1)]+[i]\n",
            "<ipython-input-22-3eb2aa88d409>:10: SettingWithCopyWarning: \n",
            "A value is trying to be set on a copy of a slice from a DataFrame\n",
            "\n",
            "See the caveats in the documentation: https://pandas.pydata.org/pandas-docs/stable/user_guide/indexing.html#returning-a-view-versus-a-copy\n",
            "  df.loc[next_date] = [np.nan for _ in range(len(df.columns)-1)]+[i]\n",
            "<ipython-input-22-3eb2aa88d409>:10: SettingWithCopyWarning: \n",
            "A value is trying to be set on a copy of a slice from a DataFrame\n",
            "\n",
            "See the caveats in the documentation: https://pandas.pydata.org/pandas-docs/stable/user_guide/indexing.html#returning-a-view-versus-a-copy\n",
            "  df.loc[next_date] = [np.nan for _ in range(len(df.columns)-1)]+[i]\n",
            "<ipython-input-22-3eb2aa88d409>:10: SettingWithCopyWarning: \n",
            "A value is trying to be set on a copy of a slice from a DataFrame\n",
            "\n",
            "See the caveats in the documentation: https://pandas.pydata.org/pandas-docs/stable/user_guide/indexing.html#returning-a-view-versus-a-copy\n",
            "  df.loc[next_date] = [np.nan for _ in range(len(df.columns)-1)]+[i]\n",
            "<ipython-input-22-3eb2aa88d409>:10: SettingWithCopyWarning: \n",
            "A value is trying to be set on a copy of a slice from a DataFrame\n",
            "\n",
            "See the caveats in the documentation: https://pandas.pydata.org/pandas-docs/stable/user_guide/indexing.html#returning-a-view-versus-a-copy\n",
            "  df.loc[next_date] = [np.nan for _ in range(len(df.columns)-1)]+[i]\n",
            "<ipython-input-22-3eb2aa88d409>:10: SettingWithCopyWarning: \n",
            "A value is trying to be set on a copy of a slice from a DataFrame\n",
            "\n",
            "See the caveats in the documentation: https://pandas.pydata.org/pandas-docs/stable/user_guide/indexing.html#returning-a-view-versus-a-copy\n",
            "  df.loc[next_date] = [np.nan for _ in range(len(df.columns)-1)]+[i]\n",
            "<ipython-input-22-3eb2aa88d409>:10: SettingWithCopyWarning: \n",
            "A value is trying to be set on a copy of a slice from a DataFrame\n",
            "\n",
            "See the caveats in the documentation: https://pandas.pydata.org/pandas-docs/stable/user_guide/indexing.html#returning-a-view-versus-a-copy\n",
            "  df.loc[next_date] = [np.nan for _ in range(len(df.columns)-1)]+[i]\n",
            "<ipython-input-22-3eb2aa88d409>:10: SettingWithCopyWarning: \n",
            "A value is trying to be set on a copy of a slice from a DataFrame\n",
            "\n",
            "See the caveats in the documentation: https://pandas.pydata.org/pandas-docs/stable/user_guide/indexing.html#returning-a-view-versus-a-copy\n",
            "  df.loc[next_date] = [np.nan for _ in range(len(df.columns)-1)]+[i]\n",
            "<ipython-input-22-3eb2aa88d409>:10: SettingWithCopyWarning: \n",
            "A value is trying to be set on a copy of a slice from a DataFrame\n",
            "\n",
            "See the caveats in the documentation: https://pandas.pydata.org/pandas-docs/stable/user_guide/indexing.html#returning-a-view-versus-a-copy\n",
            "  df.loc[next_date] = [np.nan for _ in range(len(df.columns)-1)]+[i]\n",
            "<ipython-input-22-3eb2aa88d409>:10: SettingWithCopyWarning: \n",
            "A value is trying to be set on a copy of a slice from a DataFrame\n",
            "\n",
            "See the caveats in the documentation: https://pandas.pydata.org/pandas-docs/stable/user_guide/indexing.html#returning-a-view-versus-a-copy\n",
            "  df.loc[next_date] = [np.nan for _ in range(len(df.columns)-1)]+[i]\n",
            "<ipython-input-22-3eb2aa88d409>:10: SettingWithCopyWarning: \n",
            "A value is trying to be set on a copy of a slice from a DataFrame\n",
            "\n",
            "See the caveats in the documentation: https://pandas.pydata.org/pandas-docs/stable/user_guide/indexing.html#returning-a-view-versus-a-copy\n",
            "  df.loc[next_date] = [np.nan for _ in range(len(df.columns)-1)]+[i]\n",
            "<ipython-input-22-3eb2aa88d409>:10: SettingWithCopyWarning: \n",
            "A value is trying to be set on a copy of a slice from a DataFrame\n",
            "\n",
            "See the caveats in the documentation: https://pandas.pydata.org/pandas-docs/stable/user_guide/indexing.html#returning-a-view-versus-a-copy\n",
            "  df.loc[next_date] = [np.nan for _ in range(len(df.columns)-1)]+[i]\n",
            "<ipython-input-22-3eb2aa88d409>:10: SettingWithCopyWarning: \n",
            "A value is trying to be set on a copy of a slice from a DataFrame\n",
            "\n",
            "See the caveats in the documentation: https://pandas.pydata.org/pandas-docs/stable/user_guide/indexing.html#returning-a-view-versus-a-copy\n",
            "  df.loc[next_date] = [np.nan for _ in range(len(df.columns)-1)]+[i]\n",
            "<ipython-input-22-3eb2aa88d409>:10: SettingWithCopyWarning: \n",
            "A value is trying to be set on a copy of a slice from a DataFrame\n",
            "\n",
            "See the caveats in the documentation: https://pandas.pydata.org/pandas-docs/stable/user_guide/indexing.html#returning-a-view-versus-a-copy\n",
            "  df.loc[next_date] = [np.nan for _ in range(len(df.columns)-1)]+[i]\n",
            "<ipython-input-22-3eb2aa88d409>:10: SettingWithCopyWarning: \n",
            "A value is trying to be set on a copy of a slice from a DataFrame\n",
            "\n",
            "See the caveats in the documentation: https://pandas.pydata.org/pandas-docs/stable/user_guide/indexing.html#returning-a-view-versus-a-copy\n",
            "  df.loc[next_date] = [np.nan for _ in range(len(df.columns)-1)]+[i]\n",
            "<ipython-input-22-3eb2aa88d409>:10: SettingWithCopyWarning: \n",
            "A value is trying to be set on a copy of a slice from a DataFrame\n",
            "\n",
            "See the caveats in the documentation: https://pandas.pydata.org/pandas-docs/stable/user_guide/indexing.html#returning-a-view-versus-a-copy\n",
            "  df.loc[next_date] = [np.nan for _ in range(len(df.columns)-1)]+[i]\n",
            "<ipython-input-22-3eb2aa88d409>:10: SettingWithCopyWarning: \n",
            "A value is trying to be set on a copy of a slice from a DataFrame\n",
            "\n",
            "See the caveats in the documentation: https://pandas.pydata.org/pandas-docs/stable/user_guide/indexing.html#returning-a-view-versus-a-copy\n",
            "  df.loc[next_date] = [np.nan for _ in range(len(df.columns)-1)]+[i]\n",
            "<ipython-input-22-3eb2aa88d409>:10: SettingWithCopyWarning: \n",
            "A value is trying to be set on a copy of a slice from a DataFrame\n",
            "\n",
            "See the caveats in the documentation: https://pandas.pydata.org/pandas-docs/stable/user_guide/indexing.html#returning-a-view-versus-a-copy\n",
            "  df.loc[next_date] = [np.nan for _ in range(len(df.columns)-1)]+[i]\n",
            "<ipython-input-22-3eb2aa88d409>:10: SettingWithCopyWarning: \n",
            "A value is trying to be set on a copy of a slice from a DataFrame\n",
            "\n",
            "See the caveats in the documentation: https://pandas.pydata.org/pandas-docs/stable/user_guide/indexing.html#returning-a-view-versus-a-copy\n",
            "  df.loc[next_date] = [np.nan for _ in range(len(df.columns)-1)]+[i]\n",
            "<ipython-input-22-3eb2aa88d409>:10: SettingWithCopyWarning: \n",
            "A value is trying to be set on a copy of a slice from a DataFrame\n",
            "\n",
            "See the caveats in the documentation: https://pandas.pydata.org/pandas-docs/stable/user_guide/indexing.html#returning-a-view-versus-a-copy\n",
            "  df.loc[next_date] = [np.nan for _ in range(len(df.columns)-1)]+[i]\n",
            "<ipython-input-22-3eb2aa88d409>:10: SettingWithCopyWarning: \n",
            "A value is trying to be set on a copy of a slice from a DataFrame\n",
            "\n",
            "See the caveats in the documentation: https://pandas.pydata.org/pandas-docs/stable/user_guide/indexing.html#returning-a-view-versus-a-copy\n",
            "  df.loc[next_date] = [np.nan for _ in range(len(df.columns)-1)]+[i]\n",
            "<ipython-input-22-3eb2aa88d409>:10: SettingWithCopyWarning: \n",
            "A value is trying to be set on a copy of a slice from a DataFrame\n",
            "\n",
            "See the caveats in the documentation: https://pandas.pydata.org/pandas-docs/stable/user_guide/indexing.html#returning-a-view-versus-a-copy\n",
            "  df.loc[next_date] = [np.nan for _ in range(len(df.columns)-1)]+[i]\n",
            "<ipython-input-22-3eb2aa88d409>:10: SettingWithCopyWarning: \n",
            "A value is trying to be set on a copy of a slice from a DataFrame\n",
            "\n",
            "See the caveats in the documentation: https://pandas.pydata.org/pandas-docs/stable/user_guide/indexing.html#returning-a-view-versus-a-copy\n",
            "  df.loc[next_date] = [np.nan for _ in range(len(df.columns)-1)]+[i]\n",
            "<ipython-input-22-3eb2aa88d409>:10: SettingWithCopyWarning: \n",
            "A value is trying to be set on a copy of a slice from a DataFrame\n",
            "\n",
            "See the caveats in the documentation: https://pandas.pydata.org/pandas-docs/stable/user_guide/indexing.html#returning-a-view-versus-a-copy\n",
            "  df.loc[next_date] = [np.nan for _ in range(len(df.columns)-1)]+[i]\n",
            "<ipython-input-22-3eb2aa88d409>:10: SettingWithCopyWarning: \n",
            "A value is trying to be set on a copy of a slice from a DataFrame\n",
            "\n",
            "See the caveats in the documentation: https://pandas.pydata.org/pandas-docs/stable/user_guide/indexing.html#returning-a-view-versus-a-copy\n",
            "  df.loc[next_date] = [np.nan for _ in range(len(df.columns)-1)]+[i]\n",
            "<ipython-input-22-3eb2aa88d409>:10: SettingWithCopyWarning: \n",
            "A value is trying to be set on a copy of a slice from a DataFrame\n",
            "\n",
            "See the caveats in the documentation: https://pandas.pydata.org/pandas-docs/stable/user_guide/indexing.html#returning-a-view-versus-a-copy\n",
            "  df.loc[next_date] = [np.nan for _ in range(len(df.columns)-1)]+[i]\n",
            "<ipython-input-22-3eb2aa88d409>:10: SettingWithCopyWarning: \n",
            "A value is trying to be set on a copy of a slice from a DataFrame\n",
            "\n",
            "See the caveats in the documentation: https://pandas.pydata.org/pandas-docs/stable/user_guide/indexing.html#returning-a-view-versus-a-copy\n",
            "  df.loc[next_date] = [np.nan for _ in range(len(df.columns)-1)]+[i]\n",
            "<ipython-input-22-3eb2aa88d409>:10: SettingWithCopyWarning: \n",
            "A value is trying to be set on a copy of a slice from a DataFrame\n",
            "\n",
            "See the caveats in the documentation: https://pandas.pydata.org/pandas-docs/stable/user_guide/indexing.html#returning-a-view-versus-a-copy\n",
            "  df.loc[next_date] = [np.nan for _ in range(len(df.columns)-1)]+[i]\n",
            "<ipython-input-22-3eb2aa88d409>:10: SettingWithCopyWarning: \n",
            "A value is trying to be set on a copy of a slice from a DataFrame\n",
            "\n",
            "See the caveats in the documentation: https://pandas.pydata.org/pandas-docs/stable/user_guide/indexing.html#returning-a-view-versus-a-copy\n",
            "  df.loc[next_date] = [np.nan for _ in range(len(df.columns)-1)]+[i]\n",
            "<ipython-input-22-3eb2aa88d409>:10: SettingWithCopyWarning: \n",
            "A value is trying to be set on a copy of a slice from a DataFrame\n",
            "\n",
            "See the caveats in the documentation: https://pandas.pydata.org/pandas-docs/stable/user_guide/indexing.html#returning-a-view-versus-a-copy\n",
            "  df.loc[next_date] = [np.nan for _ in range(len(df.columns)-1)]+[i]\n",
            "<ipython-input-22-3eb2aa88d409>:10: SettingWithCopyWarning: \n",
            "A value is trying to be set on a copy of a slice from a DataFrame\n",
            "\n",
            "See the caveats in the documentation: https://pandas.pydata.org/pandas-docs/stable/user_guide/indexing.html#returning-a-view-versus-a-copy\n",
            "  df.loc[next_date] = [np.nan for _ in range(len(df.columns)-1)]+[i]\n",
            "<ipython-input-22-3eb2aa88d409>:10: SettingWithCopyWarning: \n",
            "A value is trying to be set on a copy of a slice from a DataFrame\n",
            "\n",
            "See the caveats in the documentation: https://pandas.pydata.org/pandas-docs/stable/user_guide/indexing.html#returning-a-view-versus-a-copy\n",
            "  df.loc[next_date] = [np.nan for _ in range(len(df.columns)-1)]+[i]\n",
            "<ipython-input-22-3eb2aa88d409>:10: SettingWithCopyWarning: \n",
            "A value is trying to be set on a copy of a slice from a DataFrame\n",
            "\n",
            "See the caveats in the documentation: https://pandas.pydata.org/pandas-docs/stable/user_guide/indexing.html#returning-a-view-versus-a-copy\n",
            "  df.loc[next_date] = [np.nan for _ in range(len(df.columns)-1)]+[i]\n",
            "<ipython-input-22-3eb2aa88d409>:10: SettingWithCopyWarning: \n",
            "A value is trying to be set on a copy of a slice from a DataFrame\n",
            "\n",
            "See the caveats in the documentation: https://pandas.pydata.org/pandas-docs/stable/user_guide/indexing.html#returning-a-view-versus-a-copy\n",
            "  df.loc[next_date] = [np.nan for _ in range(len(df.columns)-1)]+[i]\n",
            "<ipython-input-22-3eb2aa88d409>:10: SettingWithCopyWarning: \n",
            "A value is trying to be set on a copy of a slice from a DataFrame\n",
            "\n",
            "See the caveats in the documentation: https://pandas.pydata.org/pandas-docs/stable/user_guide/indexing.html#returning-a-view-versus-a-copy\n",
            "  df.loc[next_date] = [np.nan for _ in range(len(df.columns)-1)]+[i]\n",
            "<ipython-input-22-3eb2aa88d409>:10: SettingWithCopyWarning: \n",
            "A value is trying to be set on a copy of a slice from a DataFrame\n",
            "\n",
            "See the caveats in the documentation: https://pandas.pydata.org/pandas-docs/stable/user_guide/indexing.html#returning-a-view-versus-a-copy\n",
            "  df.loc[next_date] = [np.nan for _ in range(len(df.columns)-1)]+[i]\n",
            "<ipython-input-22-3eb2aa88d409>:10: SettingWithCopyWarning: \n",
            "A value is trying to be set on a copy of a slice from a DataFrame\n",
            "\n",
            "See the caveats in the documentation: https://pandas.pydata.org/pandas-docs/stable/user_guide/indexing.html#returning-a-view-versus-a-copy\n",
            "  df.loc[next_date] = [np.nan for _ in range(len(df.columns)-1)]+[i]\n",
            "<ipython-input-22-3eb2aa88d409>:10: SettingWithCopyWarning: \n",
            "A value is trying to be set on a copy of a slice from a DataFrame\n",
            "\n",
            "See the caveats in the documentation: https://pandas.pydata.org/pandas-docs/stable/user_guide/indexing.html#returning-a-view-versus-a-copy\n",
            "  df.loc[next_date] = [np.nan for _ in range(len(df.columns)-1)]+[i]\n",
            "<ipython-input-22-3eb2aa88d409>:10: SettingWithCopyWarning: \n",
            "A value is trying to be set on a copy of a slice from a DataFrame\n",
            "\n",
            "See the caveats in the documentation: https://pandas.pydata.org/pandas-docs/stable/user_guide/indexing.html#returning-a-view-versus-a-copy\n",
            "  df.loc[next_date] = [np.nan for _ in range(len(df.columns)-1)]+[i]\n",
            "<ipython-input-22-3eb2aa88d409>:10: SettingWithCopyWarning: \n",
            "A value is trying to be set on a copy of a slice from a DataFrame\n",
            "\n",
            "See the caveats in the documentation: https://pandas.pydata.org/pandas-docs/stable/user_guide/indexing.html#returning-a-view-versus-a-copy\n",
            "  df.loc[next_date] = [np.nan for _ in range(len(df.columns)-1)]+[i]\n",
            "<ipython-input-22-3eb2aa88d409>:10: SettingWithCopyWarning: \n",
            "A value is trying to be set on a copy of a slice from a DataFrame\n",
            "\n",
            "See the caveats in the documentation: https://pandas.pydata.org/pandas-docs/stable/user_guide/indexing.html#returning-a-view-versus-a-copy\n",
            "  df.loc[next_date] = [np.nan for _ in range(len(df.columns)-1)]+[i]\n",
            "<ipython-input-22-3eb2aa88d409>:10: SettingWithCopyWarning: \n",
            "A value is trying to be set on a copy of a slice from a DataFrame\n",
            "\n",
            "See the caveats in the documentation: https://pandas.pydata.org/pandas-docs/stable/user_guide/indexing.html#returning-a-view-versus-a-copy\n",
            "  df.loc[next_date] = [np.nan for _ in range(len(df.columns)-1)]+[i]\n",
            "<ipython-input-22-3eb2aa88d409>:10: SettingWithCopyWarning: \n",
            "A value is trying to be set on a copy of a slice from a DataFrame\n",
            "\n",
            "See the caveats in the documentation: https://pandas.pydata.org/pandas-docs/stable/user_guide/indexing.html#returning-a-view-versus-a-copy\n",
            "  df.loc[next_date] = [np.nan for _ in range(len(df.columns)-1)]+[i]\n",
            "<ipython-input-22-3eb2aa88d409>:10: SettingWithCopyWarning: \n",
            "A value is trying to be set on a copy of a slice from a DataFrame\n",
            "\n",
            "See the caveats in the documentation: https://pandas.pydata.org/pandas-docs/stable/user_guide/indexing.html#returning-a-view-versus-a-copy\n",
            "  df.loc[next_date] = [np.nan for _ in range(len(df.columns)-1)]+[i]\n",
            "<ipython-input-22-3eb2aa88d409>:10: SettingWithCopyWarning: \n",
            "A value is trying to be set on a copy of a slice from a DataFrame\n",
            "\n",
            "See the caveats in the documentation: https://pandas.pydata.org/pandas-docs/stable/user_guide/indexing.html#returning-a-view-versus-a-copy\n",
            "  df.loc[next_date] = [np.nan for _ in range(len(df.columns)-1)]+[i]\n",
            "<ipython-input-22-3eb2aa88d409>:10: SettingWithCopyWarning: \n",
            "A value is trying to be set on a copy of a slice from a DataFrame\n",
            "\n",
            "See the caveats in the documentation: https://pandas.pydata.org/pandas-docs/stable/user_guide/indexing.html#returning-a-view-versus-a-copy\n",
            "  df.loc[next_date] = [np.nan for _ in range(len(df.columns)-1)]+[i]\n",
            "<ipython-input-22-3eb2aa88d409>:10: SettingWithCopyWarning: \n",
            "A value is trying to be set on a copy of a slice from a DataFrame\n",
            "\n",
            "See the caveats in the documentation: https://pandas.pydata.org/pandas-docs/stable/user_guide/indexing.html#returning-a-view-versus-a-copy\n",
            "  df.loc[next_date] = [np.nan for _ in range(len(df.columns)-1)]+[i]\n",
            "<ipython-input-22-3eb2aa88d409>:10: SettingWithCopyWarning: \n",
            "A value is trying to be set on a copy of a slice from a DataFrame\n",
            "\n",
            "See the caveats in the documentation: https://pandas.pydata.org/pandas-docs/stable/user_guide/indexing.html#returning-a-view-versus-a-copy\n",
            "  df.loc[next_date] = [np.nan for _ in range(len(df.columns)-1)]+[i]\n",
            "<ipython-input-22-3eb2aa88d409>:10: SettingWithCopyWarning: \n",
            "A value is trying to be set on a copy of a slice from a DataFrame\n",
            "\n",
            "See the caveats in the documentation: https://pandas.pydata.org/pandas-docs/stable/user_guide/indexing.html#returning-a-view-versus-a-copy\n",
            "  df.loc[next_date] = [np.nan for _ in range(len(df.columns)-1)]+[i]\n",
            "<ipython-input-22-3eb2aa88d409>:10: SettingWithCopyWarning: \n",
            "A value is trying to be set on a copy of a slice from a DataFrame\n",
            "\n",
            "See the caveats in the documentation: https://pandas.pydata.org/pandas-docs/stable/user_guide/indexing.html#returning-a-view-versus-a-copy\n",
            "  df.loc[next_date] = [np.nan for _ in range(len(df.columns)-1)]+[i]\n",
            "<ipython-input-22-3eb2aa88d409>:10: SettingWithCopyWarning: \n",
            "A value is trying to be set on a copy of a slice from a DataFrame\n",
            "\n",
            "See the caveats in the documentation: https://pandas.pydata.org/pandas-docs/stable/user_guide/indexing.html#returning-a-view-versus-a-copy\n",
            "  df.loc[next_date] = [np.nan for _ in range(len(df.columns)-1)]+[i]\n",
            "<ipython-input-22-3eb2aa88d409>:10: SettingWithCopyWarning: \n",
            "A value is trying to be set on a copy of a slice from a DataFrame\n",
            "\n",
            "See the caveats in the documentation: https://pandas.pydata.org/pandas-docs/stable/user_guide/indexing.html#returning-a-view-versus-a-copy\n",
            "  df.loc[next_date] = [np.nan for _ in range(len(df.columns)-1)]+[i]\n",
            "<ipython-input-22-3eb2aa88d409>:10: SettingWithCopyWarning: \n",
            "A value is trying to be set on a copy of a slice from a DataFrame\n",
            "\n",
            "See the caveats in the documentation: https://pandas.pydata.org/pandas-docs/stable/user_guide/indexing.html#returning-a-view-versus-a-copy\n",
            "  df.loc[next_date] = [np.nan for _ in range(len(df.columns)-1)]+[i]\n"
          ]
        }
      ],
      "source": [
        "last_date = df.index[-1] #getting the lastdate in the dataset\n",
        "last_unix = last_date.timestamp() #converting it to time in seconds\n",
        "one_day = 86400 #one day equals 86400 seconds\n",
        "next_unix = last_unix + one_day # getting the time in seconds for the next day\n",
        "forecast_set = rf.predict(X_Predictions) # predicting forecast data\n",
        "df['Forecast'] = np.nan\n",
        "for i in forecast_set:\n",
        "    next_date = datetime.datetime.fromtimestamp(next_unix)\n",
        "    next_unix += 86400\n",
        "    df.loc[next_date] = [np.nan for _ in range(len(df.columns)-1)]+[i]"
      ]
    },
    {
      "cell_type": "code",
      "execution_count": 23,
      "metadata": {
        "colab": {
          "base_uri": "https://localhost:8080/",
          "height": 640
        },
        "id": "iqnHOgkvWiQa",
        "outputId": "35394027-be7f-476a-c6aa-349838f4e1fc"
      },
      "outputs": [
        {
          "output_type": "display_data",
          "data": {
            "text/plain": [
              "<Figure size 1800x800 with 1 Axes>"
            ],
            "image/png": "[encoded data removed]"
          },
          "metadata": {}
        }
      ],
      "source": [
        "plt.figure(figsize=(18, 8))\n",
        "df['Adj Close'].plot()\n",
        "df['Forecast'].plot()\n",
        "plt.legend(loc=4)\n",
        "plt.xlabel('Date')\n",
        "plt.ylabel('Price')\n",
        "plt.show()"
      ]
    },
    {
      "cell_type": "markdown",
      "source": [
        "Jadi hasil forecasting yang didapatkan setelah membaca data diwaktu sebelumnya untuk beberapa bulan kedepan yang ditunjukkan oleh bagian yang berwarna orange. dan harga yang ditampilkan sekitaran 175 hingga 250.\n",
        ""
      ],
      "metadata": {
        "id": "n6Z_kkvAcPYA"
      }
    }
  ],
  "metadata": {
    "accelerator": "TPU",
    "colab": {
      "machine_shape": "hm",
      "provenance": [],
      "gpuClass": "premium"
    },
    "gpuClass": "premium",
    "kernelspec": {
      "display_name": "Python 3",
      "name": "python3"
    }
  },
  "nbformat": 4,
  "nbformat_minor": 0
}